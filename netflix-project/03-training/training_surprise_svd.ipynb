{
 "cells": [
  {
   "cell_type": "code",
   "execution_count": 1,
   "metadata": {},
   "outputs": [],
   "source": [
    "import pandas as pd\n",
    "from surprise import Reader, Dataset, SVD, accuracy\n",
    "from surprise.model_selection import  train_test_split, GridSearchCV\n",
    "import time\n",
    "import mlflow"
   ]
  },
  {
   "cell_type": "code",
   "execution_count": 2,
   "metadata": {},
   "outputs": [],
   "source": [
    "ratings = pd.read_csv(\"s3://ns-data-resources-bucket/netflix-recommendation/sample_data_2005_10_12.csv\")\n",
    "\n",
    "ratings.drop(['timestamp', 'year', 'month'], axis=1, inplace=True)\n",
    "\n",
    "movies = pd.read_csv(\"s3://ns-data-resources-bucket/netflix-recommendation/movie_titles_clean.csv\")"
   ]
  },
  {
   "cell_type": "code",
   "execution_count": 3,
   "metadata": {},
   "outputs": [],
   "source": [
    "movie_id_count = ratings[\"movie_id\"].value_counts()\n",
    "movie_id_count[movie_id_count > movie_id_count.quantile(0.7)].index\n",
    "user_id_count = ratings[\"user_id\"].value_counts()\n",
    "user_id_count[user_id_count > user_id_count.quantile(0.7)].index\n",
    "ratings = ratings[ratings['user_id'].isin(user_id_count[user_id_count > user_id_count.quantile(0.85)].index)]\n",
    "ratings = ratings[ratings['movie_id'].isin(movie_id_count[movie_id_count > movie_id_count.quantile(0.85)].index)]\n",
    "movies = movies[movies['movie_id'].isin(movie_id_count[movie_id_count > movie_id_count.quantile(0.85)].index)]\n"
   ]
  },
  {
   "cell_type": "code",
   "execution_count": 4,
   "metadata": {},
   "outputs": [],
   "source": [
    "# Later we will use the current_movies dataframe to make predictions for the user\n",
    "movies.to_csv('current_movies.csv', index=False)"
   ]
  },
  {
   "cell_type": "code",
   "execution_count": 7,
   "metadata": {},
   "outputs": [
    {
     "name": "stdout",
     "output_type": "stream",
     "text": [
      "<class 'pandas.core.frame.DataFrame'>\n",
      "Index: 2406468 entries, 0 to 6640933\n",
      "Data columns (total 3 columns):\n",
      " #   Column       Dtype  \n",
      "---  ------       -----  \n",
      " 0   user_id      int64  \n",
      " 1   movie_id     int64  \n",
      " 2   user_rating  float64\n",
      "dtypes: float64(1), int64(2)\n",
      "memory usage: 73.4 MB\n",
      "None\n",
      "<class 'pandas.core.frame.DataFrame'>\n",
      "Index: 799 entries, 29 to 17763\n",
      "Data columns (total 3 columns):\n",
      " #   Column        Non-Null Count  Dtype  \n",
      "---  ------        --------------  -----  \n",
      " 0   movie_id      799 non-null    int64  \n",
      " 1   release_year  799 non-null    float64\n",
      " 2   movie_title   799 non-null    object \n",
      "dtypes: float64(1), int64(1), object(1)\n",
      "memory usage: 25.0+ KB\n",
      "None\n"
     ]
    }
   ],
   "source": [
    "print(ratings.info())\n",
    "print(movies.info())"
   ]
  },
  {
   "cell_type": "code",
   "execution_count": 8,
   "metadata": {},
   "outputs": [
    {
     "name": "stdout",
     "output_type": "stream",
     "text": [
      "Number of unique users: 16875\n",
      "Number of unique movies: 799\n",
      "Number of total ratings: 2406468\n"
     ]
    }
   ],
   "source": [
    "unique_user_ids = ratings.user_id.unique()\n",
    "unique_movie_ids = ratings.movie_id.unique()\n",
    "total_ratings = len(ratings.index)\n",
    "print(\"Number of unique users: {}\".format(len(unique_user_ids)))\n",
    "print(\"Number of unique movies: {}\".format(len(unique_movie_ids)))\n",
    "print(\"Number of total ratings: {}\".format(total_ratings))"
   ]
  },
  {
   "cell_type": "code",
   "execution_count": 9,
   "metadata": {},
   "outputs": [
    {
     "name": "stdout",
     "output_type": "stream",
     "text": [
      "Data loaded.\n"
     ]
    }
   ],
   "source": [
    "reader = Reader(rating_scale=(1, 5))\n",
    "ratings_df = Dataset.load_from_df(ratings[['user_id', 'movie_id', 'user_rating']], reader)\n",
    "data_train, data_test = train_test_split(ratings_df, test_size=0.2)\n",
    "print(\"Data loaded.\")"
   ]
  },
  {
   "cell_type": "code",
   "execution_count": 10,
   "metadata": {},
   "outputs": [
    {
     "name": "stderr",
     "output_type": "stream",
     "text": [
      "2023/07/11 15:29:28 INFO mlflow.tracking.fluent: Experiment with name 'netflix_recommendation_project' does not exist. Creating a new experiment.\n"
     ]
    },
    {
     "name": "stdout",
     "output_type": "stream",
     "text": [
      "Setting mlflow experiment...\n",
      "Starting training...\n"
     ]
    },
    {
     "name": "stderr",
     "output_type": "stream",
     "text": [
      "[Parallel(n_jobs=-2)]: Using backend LokyBackend with 7 concurrent workers.\n",
      "[Parallel(n_jobs=-2)]: Done  18 out of  20 | elapsed:  1.0min remaining:    6.9s\n",
      "[Parallel(n_jobs=-2)]: Done  20 out of  20 | elapsed:  1.1min finished\n"
     ]
    },
    {
     "name": "stdout",
     "output_type": "stream",
     "text": [
      "Training the model...\n",
      "Training completed.\n",
      "Total time: 16.09574294090271 seconds\n",
      "Evaluating the model...\n",
      "RMSE: 0.8263\n",
      "RMSE:  0.8262569189964807\n"
     ]
    },
    {
     "name": "stderr",
     "output_type": "stream",
     "text": [
      "/Users/nizarsayad/miniconda3/envs/sklearn-env/lib/python3.11/site-packages/_distutils_hack/__init__.py:33: UserWarning: Setuptools is replacing distutils.\n",
      "  warnings.warn(\"Setuptools is replacing distutils.\")\n",
      "Successfully registered model 'svd_surprise'.\n",
      "2023/07/11 15:31:13 INFO mlflow.tracking._model_registry.client: Waiting up to 300 seconds for model version to finish creation. Model name: svd_surprise, version 1\n",
      "Created version '1' of model 'svd_surprise'.\n"
     ]
    }
   ],
   "source": [
    "# Set mlflow experiment\n",
    "print(\"Setting mlflow experiment...\")\n",
    "mlflow.set_experiment('netflix_recommendation_project')\n",
    "\n",
    "time_stamp = int(time.time())\n",
    "run_name = f'svd_surprise_{time_stamp}'\n",
    "class PyFuncSurprise(mlflow.pyfunc.PythonModel):\n",
    "\n",
    "    def __init__(self, model):\n",
    "        self.model = model\n",
    "\n",
    "    def predict(self, context, inputs):\n",
    "        inputs['prediction'] = inputs.apply(lambda x: self.model.predict(uid=x['user_id'], iid=x['movie_id']).est, axis=1)\n",
    "        inputs.sort_values(by=['prediction'], ascending=False, inplace=True)\n",
    "        return inputs\n",
    "    \n",
    "with mlflow.start_run(run_name=run_name) as run:\n",
    "    # Grid search parameters for SVD\n",
    "    # Need more extensive grid search\n",
    "    param_grid = {\n",
    "        \"n_epochs\": [20, 30], \n",
    "        \"n_factors\": [100, 200]\n",
    "        }\n",
    "    print(\"Starting training...\")\n",
    "    gs = GridSearchCV(SVD, param_grid, measures=[\"rmse\"],n_jobs=-2, cv=5, joblib_verbose=2)\n",
    "    gs.fit(ratings_df)\n",
    "\n",
    "    # Train the model with the best parameters\n",
    "    params = gs.best_params[\"rmse\"]\n",
    "\n",
    "    model = SVD(**params)\n",
    "    print(\"Training the model...\")\n",
    "    # Start timer\n",
    "    start_time = time.time()\n",
    "    model.fit(data_train)\n",
    "\n",
    "    # End timer\n",
    "    end_time = time.time()\n",
    "    print(\"Training completed.\")\n",
    "    print(f\"Total time: {end_time - start_time} seconds\")\n",
    "\n",
    "    # Evaluate the model\n",
    "    print(\"Evaluating the model...\")\n",
    "    predictions = model.test(data_test)\n",
    "    rmse = accuracy.rmse(predictions)\n",
    "    print(\"RMSE: \", rmse)\n",
    "\n",
    "    # Create the pyfunc model\n",
    "    pyfunc_model = PyFuncSurprise(model)\n",
    "    \n",
    "    mlflow.log_metric(\"rmse\", rmse)\n",
    "    mlflow.log_metric(\"nb_unique_users\", len(unique_user_ids))\n",
    "    mlflow.log_metric(\"nb_unique_movies\", len(unique_movie_ids))\n",
    "    mlflow.log_metric(\"total_ratings\", total_ratings)\n",
    "    mlflow.log_metric(\"training_time\", end_time - start_time)\n",
    "    mlflow.log_param(\"params\", params)\n",
    "    mlflow.pyfunc.log_model(python_model=pyfunc_model, artifact_path=\"surprise-model\", registered_model_name=\"svd_surprise\")"
   ]
  },
  {
   "cell_type": "code",
   "execution_count": 23,
   "metadata": {},
   "outputs": [
    {
     "name": "stderr",
     "output_type": "stream",
     "text": [
      "2023/07/10 18:45:16 WARNING mlflow.pyfunc: Detected one or more mismatches between the model's dependencies and the current Python environment:\n",
      " - mlflow (current: 2.4.2, required: mlflow==2.4)\n",
      "To fix the mismatches, call `mlflow.pyfunc.get_model_dependencies(model_uri)` to fetch the model's environment and install dependencies using the resulting environment file.\n"
     ]
    },
    {
     "data": {
      "text/html": [
       "<div>\n",
       "<style scoped>\n",
       "    .dataframe tbody tr th:only-of-type {\n",
       "        vertical-align: middle;\n",
       "    }\n",
       "\n",
       "    .dataframe tbody tr th {\n",
       "        vertical-align: top;\n",
       "    }\n",
       "\n",
       "    .dataframe thead th {\n",
       "        text-align: right;\n",
       "    }\n",
       "</style>\n",
       "<table border=\"1\" class=\"dataframe\">\n",
       "  <thead>\n",
       "    <tr style=\"text-align: right;\">\n",
       "      <th></th>\n",
       "      <th>user_id</th>\n",
       "      <th>movie_id</th>\n",
       "      <th>prediction</th>\n",
       "    </tr>\n",
       "  </thead>\n",
       "  <tbody>\n",
       "    <tr>\n",
       "      <th>0</th>\n",
       "      <td>30878</td>\n",
       "      <td>14550</td>\n",
       "      <td>4.428463</td>\n",
       "    </tr>\n",
       "    <tr>\n",
       "      <th>1</th>\n",
       "      <td>30878</td>\n",
       "      <td>585</td>\n",
       "      <td>3.732719</td>\n",
       "    </tr>\n",
       "    <tr>\n",
       "      <th>2</th>\n",
       "      <td>30878</td>\n",
       "      <td>2410</td>\n",
       "      <td>3.732719</td>\n",
       "    </tr>\n",
       "  </tbody>\n",
       "</table>\n",
       "</div>"
      ],
      "text/plain": [
       "   user_id  movie_id  prediction\n",
       "0    30878     14550    4.428463\n",
       "1    30878       585    3.732719\n",
       "2    30878      2410    3.732719"
      ]
     },
     "execution_count": 23,
     "metadata": {},
     "output_type": "execute_result"
    }
   ],
   "source": [
    "# Testing the model\n",
    "client = mlflow.MlflowClient()\n",
    "model_name = \"svd_surprise\"\n",
    "model_version = client.get_registered_model(name=\"svd_surprise\").latest_versions[0].version\n",
    "loaded_model = mlflow.pyfunc.load_model(model_uri=f\"models:/{model_name}/{model_version}\")\n",
    "# Make a prediction\n",
    "test_data = pd.DataFrame([(30878, 14550), (30878, 585), (30878, 2410)], columns=['user_id', 'movie_id'])\n",
    "loaded_model.predict(test_data)"
   ]
  }
 ],
 "metadata": {
  "kernelspec": {
   "display_name": "sklearn-env",
   "language": "python",
   "name": "python3"
  },
  "language_info": {
   "codemirror_mode": {
    "name": "ipython",
    "version": 3
   },
   "file_extension": ".py",
   "mimetype": "text/x-python",
   "name": "python",
   "nbconvert_exporter": "python",
   "pygments_lexer": "ipython3",
   "version": "3.11.3"
  },
  "orig_nbformat": 4
 },
 "nbformat": 4,
 "nbformat_minor": 2
}
